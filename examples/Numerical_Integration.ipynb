{
 "cells": [
  {
   "cell_type": "markdown",
   "metadata": {},
   "source": [
    "# Numerical Integration\n",
    "\n",
    "Here we will study numerical integration in Python as provided by routines in `scipy.integrate`. The main routine is `quad` or `quad_vec`, but there are many other methods implemented that are useful in some circumstances."
   ]
  },
  {
   "cell_type": "markdown",
   "metadata": {},
   "source": [
    "## Initialization"
   ]
  },
  {
   "cell_type": "code",
   "execution_count": 1,
   "metadata": {},
   "outputs": [],
   "source": [
    "import numpy as np\n",
    "import matplotlib.pyplot as plt\n",
    "import scipy.integrate as integ\n",
    "import scipy.optimize as opt\n",
    "import scipy.interpolate as interp\n",
    "# Globally fix plot styling\n",
    "import matplotlib as mpl\n",
    "mpl.rc('xtick', direction='in', top=True)\n",
    "mpl.rc('ytick', direction='in', right=True)\n",
    "mpl.rc('xtick.minor', visible=True)\n",
    "mpl.rc('ytick.minor', visible=True)"
   ]
  },
  {
   "cell_type": "markdown",
   "metadata": {},
   "source": [
    "## Documentation\n",
    "\n",
    "As always we should check the documentation. There are routines for Newton-Cotes integration, `newton_cotes`, for integrating functions, in particular `quad`, and `quad_vec`, and for integrating from tabulated values, in particular `cumtrapz`, `simps`, and `romb`. We should check the documentation for all of these and some of them will be used in the prelab, lab, and homework. Here we will only look at a few of them.\n",
    "\n",
    "(Note that functions do get deprecated! The function `romberg` was removed from scipy version 1.15!)"
   ]
  },
  {
   "cell_type": "code",
   "execution_count": null,
   "metadata": {},
   "outputs": [],
   "source": [
    "integ?"
   ]
  },
  {
   "cell_type": "code",
   "execution_count": null,
   "metadata": {},
   "outputs": [],
   "source": [
    "integ.newton_cotes?"
   ]
  },
  {
   "cell_type": "code",
   "execution_count": 2,
   "metadata": {},
   "outputs": [
    {
     "name": "stdout",
     "output_type": "stream",
     "text": [
      "n=1: [trapezoidal rule]  (array([0.5, 0.5]), -0.08333333333333333)\n",
      "n=2: [Simpson's rule]  (array([0.33333333, 1.33333333, 0.33333333]), -0.011111111111111112)\n",
      "n=10:  (array([ 0.26834148,  1.77535941, -0.81043571,  4.54946288, -4.35155123,\n",
      "        7.1376463 , -4.35155123,  4.54946288, -0.81043571,  1.77535941,\n",
      "        0.26834148]), -0.004118303556134244)\n"
     ]
    }
   ],
   "source": [
    "print(\"n=1: [trapezoidal rule] \", integ.newton_cotes(1))\n",
    "print(\"n=2: [Simpson's rule] \", integ.newton_cotes(2))\n",
    "print(\"n=10: \", integ.newton_cotes(10))"
   ]
  },
  {
   "cell_type": "code",
   "execution_count": null,
   "metadata": {},
   "outputs": [],
   "source": [
    "integ.trapezoid?"
   ]
  },
  {
   "cell_type": "code",
   "execution_count": null,
   "metadata": {},
   "outputs": [],
   "source": [
    "integ.cumulative_trapezoid?"
   ]
  },
  {
   "cell_type": "code",
   "execution_count": null,
   "metadata": {},
   "outputs": [],
   "source": [
    "integ.romberg?"
   ]
  },
  {
   "cell_type": "code",
   "execution_count": null,
   "metadata": {},
   "outputs": [],
   "source": [
    "integ.romb?"
   ]
  },
  {
   "cell_type": "code",
   "execution_count": null,
   "metadata": {},
   "outputs": [],
   "source": [
    "integ.quad?"
   ]
  },
  {
   "cell_type": "markdown",
   "metadata": {},
   "source": [
    "The work horse routine is `quad`. It is actually a wrapper for many integration routines and techniques. In fact, it has so many features that historically it required its own function to explain some of its more esoteric features, `quad_explain`! All the documentation is now included in `quad` itself so this extra function no longer exists (it is another function that has been removed from scipy).\n",
    "\n",
    "Finally, there is a version of `quad` than can handle vectorized functions, `quad_vec`. This is a function that can compute multiple integrals over the same interval all at once. It is a relatively new function so is not as commonly used. A more common way to handle repeated evaluation of integrals is to use a loop. We will explore both options here."
   ]
  },
  {
   "cell_type": "code",
   "execution_count": null,
   "metadata": {},
   "outputs": [],
   "source": [
    "integ.quad_vec?"
   ]
  },
  {
   "cell_type": "markdown",
   "metadata": {},
   "source": [
    "## Using `quad`\n",
    "\n",
    "Both `quad` and `quad_vec` are based on the same ideas so we will discuss the basics in terms of `quad`.\n",
    "\n",
    "### General usage\n",
    "\n",
    "To get started using it let us consider a simple integral,\n",
    "$$ \\int_0^2 \\mathrm{e}^x \\,\\mathrm{d}x = \\mathrm{e}^2 - 1. $$\n",
    "We can perform this integral using `quad` as shown below."
   ]
  },
  {
   "cell_type": "code",
   "execution_count": 3,
   "metadata": {},
   "outputs": [
    {
     "data": {
      "text/plain": [
       "(6.3890560989306495, 7.093277186654589e-14)"
      ]
     },
     "execution_count": 3,
     "metadata": {},
     "output_type": "execute_result"
    }
   ],
   "source": [
    "integ.quad(np.exp, 0, 2)"
   ]
  },
  {
   "cell_type": "markdown",
   "metadata": {},
   "source": [
    "Notice that `quad` **returns two quantities.** As described in the documentation these are the value of the integral and an estimate of the error in the integral. Note that this error estimate is based on the convergence of the integration algorithm, it is **not** the true error. If `quad` knew the true value it would return it and the error would be zero!\n",
    "\n",
    "In principle we should always check the error estimate as this is an indication of the convergence of the algorithm and how much we should trust the result. Since `quad` returns the results in what is a called a `tuple` in Python, we can store the results using\n",
    "```python\n",
    "(res, err) = integ.quad(np.exp, 0, 2)\n",
    "```\n",
    "or also commonly written as\n",
    "```python\n",
    "res, err = integ.quad(np.exp, 0, 2)\n",
    "```\n",
    "\n",
    "Alternatively we can entirely ignore the error. This is not good practice, but is often expedient (that is, once we know the integral converges we can start ignoring the error). Another common idiom is thus to just pull out the result by extracting the first element of the `tuple` (the element with index 0),\n",
    "```python\n",
    "res = integ.quad(np.exp, 0, 2)[0]\n",
    "```\n",
    "\n",
    "For our simple case we have ..."
   ]
  },
  {
   "cell_type": "code",
   "execution_count": 4,
   "metadata": {},
   "outputs": [
    {
     "name": "stdout",
     "output_type": "stream",
     "text": [
      "True value of integral = 6.38905609893065 quad estimate of integral = 6.3890560989306495\n",
      "True error in integral = 8.881784197001252e-16 quad estimate of error = 7.093277186654589e-14\n"
     ]
    }
   ],
   "source": [
    "res_true = np.exp(2) - 1\n",
    "res, err = integ.quad(np.exp, 0, 2)\n",
    "print(f\"True value of integral = {res_true} quad estimate of integral = {res}\")\n",
    "print(f\"True error in integral = {np.abs(res_true-res)} quad estimate of error = {err}\")"
   ]
  },
  {
   "cell_type": "markdown",
   "metadata": {},
   "source": [
    "### Getting more information\n",
    "\n",
    "We can get detailed information of what `quad` is doing by using `full_output=True`."
   ]
  },
  {
   "cell_type": "code",
   "execution_count": 5,
   "metadata": {},
   "outputs": [
    {
     "data": {
      "text/plain": [
       "(6.3890560989306495,\n",
       " 7.093277186654589e-14,\n",
       " {'neval': 21,\n",
       "  'last': 1,\n",
       "  'iord': array([         1,          0,          0,          0,  540702760,\n",
       "         1701470831,  539784291, 1864383097, 1667590754, 1998597236,\n",
       "         1651449914, 1952671082, 1310735648,  744844911, 1953853216,\n",
       "         1651449914, 1952671082, 1310735648,  694513263,  540945696,\n",
       "         1886221678, 1684942457, 1634890337,       2681,  889192458,\n",
       "          658060601,  891756588, 1145387334,  539764529,  892879655,\n",
       "          657469490,  942088236,  943274041,  539764537, 1127366951,\n",
       "          658720056, 1176969260,  927154758,  539764537, 1128678183,\n",
       "          658916166, 1879714141, 1751348321, 1667327534, 1819239269,\n",
       "          540701295, 1110847536,      13377,       1131,          0],\n",
       "        dtype=int32),\n",
       "  'alist': array([ 0.00000000e+000,  0.00000000e+000,  0.00000000e+000,\n",
       "          0.00000000e+000,  0.00000000e+000,  0.00000000e+000,\n",
       "          0.00000000e+000,  0.00000000e+000,  0.00000000e+000,\n",
       "          0.00000000e+000,  0.00000000e+000,  0.00000000e+000,\n",
       "          0.00000000e+000,  0.00000000e+000,  0.00000000e+000,\n",
       "          0.00000000e+000,  0.00000000e+000,  0.00000000e+000,\n",
       "          0.00000000e+000,  0.00000000e+000,  0.00000000e+000,\n",
       "          0.00000000e+000,  0.00000000e+000,  0.00000000e+000,\n",
       "          0.00000000e+000,  0.00000000e+000,  0.00000000e+000,\n",
       "          0.00000000e+000,  0.00000000e+000,  0.00000000e+000,\n",
       "          0.00000000e+000,  0.00000000e+000,  0.00000000e+000,\n",
       "          0.00000000e+000,  0.00000000e+000,  0.00000000e+000,\n",
       "          0.00000000e+000,  0.00000000e+000,  0.00000000e+000,\n",
       "          0.00000000e+000,  0.00000000e+000,  0.00000000e+000,\n",
       "          0.00000000e+000,  3.21142670e-322,  3.84863202e-315,\n",
       "          6.50586782e-310,  8.96549784e-247,  3.64741066e-304,\n",
       "          9.71912968e-305, -1.84466537e-197]),\n",
       "  'blist': array([2.00000000e+000, 0.00000000e+000, 0.00000000e+000, 1.10895540e-310,\n",
       "         1.59475119e-204, 0.00000000e+000, 0.00000000e+000, 1.07086167e-296,\n",
       "         2.86162822e-320, 0.00000000e+000, 1.56645200e-305, 5.53682373e-317,\n",
       "         6.85355863e-195, 0.00000000e+000, 0.00000000e+000, 3.52251301e-312,\n",
       "         8.44852254e-322, 2.89250398e-286, 3.86930080e-316, 2.49208408e-306,\n",
       "         3.08791029e-320, 4.18208277e-315, 1.95805989e-181, 0.00000000e+000,\n",
       "         1.02318154e-012, 6.38135188e-320, 1.48921665e-310, 2.49208272e-306,\n",
       "         3.08247556e-320, 1.54354014e-310, 5.42665710e-166, 0.00000000e+000,\n",
       "         0.00000000e+000, 3.55683457e-161, 0.00000000e+000, 0.00000000e+000,\n",
       "         3.52251301e-312, 8.44852254e-322, 1.25990589e-300, 0.00000000e+000,\n",
       "         7.40152533e-311, 0.00000000e+000, 0.00000000e+000, 1.92246382e-305,\n",
       "         0.00000000e+000, 1.71796819e-310, 0.00000000e+000, 0.00000000e+000,\n",
       "         1.92246382e-305, 0.00000000e+000]),\n",
       "  'rlist': array([6.3890561, 0.       , 0.       , 0.       , 0.       , 0.       ,\n",
       "         0.       , 0.       , 0.       , 0.       , 0.       , 0.       ,\n",
       "         0.       , 0.       , 0.       , 0.       , 0.       , 0.       ,\n",
       "         0.       , 0.       , 0.       , 0.       , 0.       , 0.       ,\n",
       "         0.       , 0.       , 0.       , 0.       , 0.       , 0.       ,\n",
       "         0.       , 0.       , 0.       , 0.       , 0.       , 0.       ,\n",
       "         0.       , 0.       , 0.       , 0.       , 0.       , 0.       ,\n",
       "         0.       , 0.       , 0.       , 0.       , 0.       , 0.       ,\n",
       "         0.       , 0.       ]),\n",
       "  'elist': array([7.09327719e-014, 0.00000000e+000, 6.50586728e-310, 6.50586728e-310,\n",
       "         6.50586757e-310, 6.50586758e-310, 6.50586757e-310, 6.50586757e-310,\n",
       "         6.50586728e-310, 6.50586728e-310, 6.50586728e-310, 6.50586757e-310,\n",
       "         6.50586728e-310, 4.27188920e-317, 6.50586728e-310, 6.50586768e-310,\n",
       "         6.50586728e-310, 3.75195056e-315, 6.50586728e-310, 4.40437389e-317,\n",
       "         6.50586757e-310, 6.50586757e-310, 6.50586726e-310, 6.50586726e-310,\n",
       "         6.50586728e-310, 6.50586728e-310, 6.50586728e-310, 6.50586759e-310,\n",
       "         4.20313107e-317, 6.50586728e-310, 3.75192321e-315, 6.50586728e-310,\n",
       "         6.50586728e-310, 6.50586765e-310, 6.50586757e-310, 6.50586728e-310,\n",
       "         4.27906699e-317, 6.50586728e-310, 6.50586757e-310, 6.50586728e-310,\n",
       "         4.27865592e-317, 6.50586728e-310, 6.50586728e-310, 6.50586757e-310,\n",
       "         6.50586728e-310, 4.26080632e-317, 4.02529906e-317, 4.14321079e-317,\n",
       "         4.40155179e-317, 6.50586728e-310])})"
      ]
     },
     "execution_count": 5,
     "metadata": {},
     "output_type": "execute_result"
    }
   ],
   "source": [
    "integ.quad(np.exp, 0, 2, full_output=True)"
   ]
  },
  {
   "cell_type": "markdown",
   "metadata": {},
   "source": [
    "This returns a lot of extra information in a data structure called a `dictionary` in Python. (This is called an associative array, hash map, or something similar in other languages.) It is best to store this and look at it more closely. The full details are contained in the documentation. We will focus on only one entry, the number of function evaluations required which is contained in `neval`."
   ]
  },
  {
   "cell_type": "code",
   "execution_count": 6,
   "metadata": {},
   "outputs": [
    {
     "name": "stdout",
     "output_type": "stream",
     "text": [
      "Evaluation of the integral required 21 function evaluations\n"
     ]
    }
   ],
   "source": [
    "(res, err, info) = integ.quad(np.exp, 0, 2, full_output=True)\n",
    "print(f\"Evaluation of the integral required {info['neval']} function evaluations\")"
   ]
  },
  {
   "cell_type": "markdown",
   "metadata": {},
   "source": [
    "The entries in the dictionary are accessed by keys.\n",
    "We can get a list of all the keys from the dictionary itself."
   ]
  },
  {
   "cell_type": "code",
   "execution_count": 7,
   "metadata": {},
   "outputs": [
    {
     "data": {
      "text/plain": [
       "dict_keys(['neval', 'last', 'iord', 'alist', 'blist', 'rlist', 'elist'])"
      ]
     },
     "execution_count": 7,
     "metadata": {},
     "output_type": "execute_result"
    }
   ],
   "source": [
    "info.keys()"
   ]
  },
  {
   "cell_type": "markdown",
   "metadata": {},
   "source": [
    "### Complex function\n",
    "\n",
    "A complex valued function can also be integrated.\n",
    "\n",
    "Consider\n",
    "$$ \\int_{0}^{\\pi} \\mathrm{e}^{\\mathrm{i} \\theta} \\mathrm{d}\\theta = \\left. \\frac{1}{\\mathrm{i}} \\mathrm{e}^{\\mathrm{i} \\theta} \\right|_{0}^{\\pi} = 2 \\mathrm{i}. $$"
   ]
  },
  {
   "cell_type": "code",
   "execution_count": 8,
   "metadata": {},
   "outputs": [
    {
     "data": {
      "text/plain": [
       "((4.9225526349740854e-17+2j), (2.2102239425853306e-14+2.220446049250313e-14j))"
      ]
     },
     "execution_count": 8,
     "metadata": {},
     "output_type": "execute_result"
    }
   ],
   "source": [
    "def complexf(theta):\n",
    "    return np.exp(1j * theta)\n",
    "\n",
    "# We must tell quad to expect a complex valued function\n",
    "integ.quad(complexf, 0, np.pi, complex_func=True)"
   ]
  },
  {
   "cell_type": "markdown",
   "metadata": {},
   "source": [
    "Notice that now the returned value and the estimated error are both returned as complex numbers.\n",
    "Here `quad` is splitting the function into its real and imaginary parts and thus is performing two real integrals.\n",
    "In general we can always write\n",
    "$$ f(x) = f_r(x) + \\mathrm{i} f_i(x), $$\n",
    "where $f_r(x)$ and $f_i(x)$ are both real valued functions.\n",
    "These two functions can now be integrated \"in the usual way\".\n",
    "\n",
    "For our case using Euler's identity we know that\n",
    "$$ \\mathrm{e}^{\\mathrm{i} \\theta} = \\cos\\theta + \\mathrm{i} \\sin\\theta. $$\n",
    "Thus the integral from above can also be written as\n",
    "$$ \\int_{0}^{\\pi} \\mathrm{e}^{\\mathrm{i} \\theta} \\mathrm{d}\\theta = \\int_{0}^{\\pi} \\cos\\theta \\, \\mathrm{d}\\theta + \\mathrm{i} \\int_{0}^{\\pi} \\sin\\theta \\, \\mathrm{d}\\theta. $$\n",
    "We can verify that this is what `quad` is doing.\n",
    "Notice the values and the errors are *exactly* that same as found above."
   ]
  },
  {
   "cell_type": "code",
   "execution_count": 9,
   "metadata": {},
   "outputs": [
    {
     "name": "stdout",
     "output_type": "stream",
     "text": [
      "Real part: (4.9225526349740854e-17, 2.2102239425853306e-14)\n",
      "Imag part: (2.0, 2.220446049250313e-14)\n"
     ]
    }
   ],
   "source": [
    "print(f\"Real part:\", integ.quad(np.cos, 0, np.pi))\n",
    "print(f\"Imag part:\", integ.quad(np.sin, 0, np.pi))"
   ]
  },
  {
   "cell_type": "markdown",
   "metadata": {},
   "source": [
    "## Using `quad_vec`\n",
    "\n",
    "Although the name suggests that `quad_vec` is the same as `quad`, but just works on a vector valued function, it actually has some differences.\n",
    "It does not have all the same options and features as `quad` so it is *not just a drop-in replacement* and does not evaluate the integral in exactly the same way (as we will see further below).\n",
    "\n",
    "To get an idea of its usage consider the integral\n",
    "$$ I \\equiv \\int_{0}^{\\pi} \\sin(n\\theta) \\mathrm{d}\\theta = \\begin{cases} 0, & n \\hbox{ even} \\\\ \\frac{2}{n}, & n \\hbox{ odd} \\end{cases}. $$\n",
    "\n",
    "Suppose we want to evaluate this for $n \\in \\{0, 1, \\ldots, 10\\}$.\n",
    "One way to proceed is to write a loop.\n",
    "We will discuss that below.\n",
    "The alternative is to use `quad_vec`.\n",
    "Here `n` is an *extra argument* to the function, so we pass it in as usual, right?"
   ]
  },
  {
   "cell_type": "code",
   "execution_count": 10,
   "metadata": {
    "editable": true,
    "slideshow": {
     "slide_type": ""
    },
    "tags": [
     "raises-exception"
    ]
   },
   "outputs": [
    {
     "ename": "ValueError",
     "evalue": "The truth value of an array with more than one element is ambiguous. Use a.any() or a.all()",
     "output_type": "error",
     "traceback": [
      "\u001b[0;31m---------------------------------------------------------------------------\u001b[0m",
      "\u001b[0;31mValueError\u001b[0m                                Traceback (most recent call last)",
      "Cell \u001b[0;32mIn[10], line 5\u001b[0m\n\u001b[1;32m      2\u001b[0m     \u001b[38;5;28;01mreturn\u001b[39;00m np\u001b[38;5;241m.\u001b[39msin(n \u001b[38;5;241m*\u001b[39m theta)\n\u001b[1;32m      4\u001b[0m n \u001b[38;5;241m=\u001b[39m np\u001b[38;5;241m.\u001b[39marange(\u001b[38;5;241m0\u001b[39m, \u001b[38;5;241m10\u001b[39m\u001b[38;5;241m+\u001b[39m\u001b[38;5;241m1\u001b[39m)\n\u001b[0;32m----> 5\u001b[0m integ\u001b[38;5;241m.\u001b[39mquad_vec(f, \u001b[38;5;241m0\u001b[39m, np\u001b[38;5;241m.\u001b[39mpi, args\u001b[38;5;241m=\u001b[39m(n))\n",
      "File \u001b[0;32m~/opt/anaconda/envs/p250/lib/python3.11/site-packages/scipy/integrate/_quad_vec.py:228\u001b[0m, in \u001b[0;36mquad_vec\u001b[0;34m(f, a, b, epsabs, epsrel, norm, cache_size, limit, workers, points, quadrature, full_output, args)\u001b[0m\n\u001b[1;32m    225\u001b[0m a \u001b[38;5;241m=\u001b[39m \u001b[38;5;28mfloat\u001b[39m(a)\n\u001b[1;32m    226\u001b[0m b \u001b[38;5;241m=\u001b[39m \u001b[38;5;28mfloat\u001b[39m(b)\n\u001b[0;32m--> 228\u001b[0m \u001b[38;5;28;01mif\u001b[39;00m args:\n\u001b[1;32m    229\u001b[0m     \u001b[38;5;28;01mif\u001b[39;00m \u001b[38;5;129;01mnot\u001b[39;00m \u001b[38;5;28misinstance\u001b[39m(args, \u001b[38;5;28mtuple\u001b[39m):\n\u001b[1;32m    230\u001b[0m         args \u001b[38;5;241m=\u001b[39m (args,)\n",
      "\u001b[0;31mValueError\u001b[0m: The truth value of an array with more than one element is ambiguous. Use a.any() or a.all()"
     ]
    }
   ],
   "source": [
    "def f(theta, n):\n",
    "    return np.sin(n * theta)\n",
    "    \n",
    "n = np.arange(0, 10+1)\n",
    "integ.quad_vec(f, 0, np.pi, args=(n))"
   ]
  },
  {
   "cell_type": "markdown",
   "metadata": {},
   "source": [
    "We got an error.\n",
    "What happened?\n",
    "Do we understand it?\n",
    "\n",
    "This is one of the more obscure errors we will encounter that is not obvious.\n",
    "Briefly, this comes us since writing `(n)` is ambiguous.\n",
    "We want this to represent a tuple, but we also use parentheses to separate terms in a mathematical equation and it is fine to include redundant parentheses as they will just be ignored.\n",
    "How is the computer supposed to know which one we meant here?\n",
    "The code at the beginning of the `richardson_center` function from last week handled this case.\n",
    "Some functions in scipy also correctly handle this, others do not.\n",
    "(Actually, it is not this simple. Exactly how we test `args` affects the cases it can handle correctly and those it cannot. The code here *would* catch some uses, but not the one we have done. The code in `richardson_center` would also have a problem with uses like the one we have here, and would lead to a different and perhaps equally confusing error.)\n",
    "\n",
    "We will see this again soon and you will be \"reminded\" of the issue and it will be discussed in a bit more detail.\n",
    "For now the most common fix is to write `(n,)`: the extra comma makes it clear we mean \"create a tuple\"."
   ]
  },
  {
   "cell_type": "code",
   "execution_count": 11,
   "metadata": {
    "editable": true,
    "slideshow": {
     "slide_type": ""
    },
    "tags": []
   },
   "outputs": [
    {
     "name": "stdout",
     "output_type": "stream",
     "text": [
      "Absolute errors: [0.00000000e+00 0.00000000e+00 0.00000000e+00 1.11022302e-16\n",
      " 1.11022302e-16 5.55111512e-17 2.22044605e-16 1.11022302e-16\n",
      " 3.42421660e-17 1.66533454e-16 5.55111512e-17]\n"
     ]
    }
   ],
   "source": [
    "res_quad, err_quad = integ.quad_vec(f, 0, np.pi, args=(n,))\n",
    "# And here is some further foreshadowing of things we will see and understand ....\n",
    "res_true = np.zeros_like(res_quad)\n",
    "res_true[n%2 == 1] = 2/n[n%2 == 1]\n",
    "print(\"Absolute errors:\", np.abs(res_true - res_quad))"
   ]
  },
  {
   "cell_type": "markdown",
   "metadata": {
    "editable": true,
    "slideshow": {
     "slide_type": ""
    },
    "tags": []
   },
   "source": [
    "## Incandescent Light Bulb\n",
    "\n",
    "The great invention of Edison that brought safe, controllable light to the world has now largely been relegated to the dustbin of history due to its energy inefficiency. Here we will study this through a simple model. We treat the light bulb as a black body. This is a simple approximation that describes many of the features of a light bulb, but is not a complete model. The intensity of a black body, the energy emitted per unit time in some solid angle as a function of the wavelength of the emitted light, is\n",
    "$$ I(\\lambda) = \\frac{2\\pi A h c^2}{\\lambda^5 (\\mathrm{e}^{h c/\\lambda k_B T} - 1)}, $$\n",
    "where $A$ is the surface area of the black body, $h=6.626\\times10^{-34}\\;\\mathrm{J/s}$ is Planck's constant, $c$ is the speed of light, $k_B=1.381\\times10^{-23}\\;\\mathrm{J/K}$ is Boltzmann's constant, and $T$ is the temperature of the object.\n",
    "\n",
    "A black body at any temperature emits at all wavelengths. Our eye is only sensitive to \"visible light\", that is, wavelengths roughly in the range $300\\le\\lambda(\\mathrm{nm})\\le 750$. Any radiation emitted at smaller or larger frequencies is thus \"wasted energy\" as far as we are concerned. For this reason let us define the efficiency, $\\eta$, as the ratio of the emitted radiation we can observe to the total emitted radiation\n",
    "$$ \\eta \\equiv \\frac{\\int_{\\lambda_1}^{\\lambda_2} I(\\lambda) \\mathrm{d}\\lambda}{\\int_0^\\infty I(\\lambda) \\mathrm{d}\\lambda}. $$\n",
    "\n",
    "To use these we transform it into a simpler form. Let $x_i(T) \\equiv \\frac{h c}{\\lambda_i k_B T}$ and note that we can perform the integral in the denominator leaving the efficiency as\n",
    "$$ \\eta(T)  = \\frac{15}{\\pi^4} \\int_{x_2(T)}^{x_1(T)} \\frac{x^3}{\\mathrm{e}^x-1} \\mathrm{d}x. $$\n",
    "We will use $\\lambda_1=300\\;\\mathrm{nm}$ and $\\lambda_2=750\\;\\mathrm{nm}$ in what follows to estimate the efficiency of a light bulb for visible radiation."
   ]
  },
  {
   "cell_type": "markdown",
   "metadata": {},
   "source": [
    "### Loops\n",
    "\n",
    "We wish to find the temperature at which the light bulb runs at maximum efficiency. To do this we need to evaluate the efficiency for a grid of temperatures. Unfortunately `quad` does not evaluate the integral over an array of end points so we must resort to writing a loop. Alternatively we could use `quad_vec`, we will explore that below.\n",
    "\n",
    "The general structure for a loop in Python is\n",
    "```python\n",
    "for var in list:\n",
    "    do something\n",
    "    do something ...\n",
    "```    \n",
    "\n",
    "Here the `list` is any sort of object that can be iterated. For our purposes we are going to use a list of array index values. We will use the function `range` to construct them."
   ]
  },
  {
   "cell_type": "markdown",
   "metadata": {},
   "source": [
    "### Optimal Temperature\n",
    "\n",
    "To calculate the optimal temperature we construct a grid of temperature values and loop over them."
   ]
  },
  {
   "cell_type": "code",
   "execution_count": 12,
   "metadata": {},
   "outputs": [
    {
     "data": {
      "image/png": "[encoded data removed]",
      "text/plain": [
       "<Figure size 640x480 with 1 Axes>"
      ]
     },
     "metadata": {},
     "output_type": "display_data"
    }
   ],
   "source": [
    "# Some constants to get us going.\n",
    "# We will use the temperature measured in Kelvin.\n",
    "Planckh = 6.62606957e-34  # J s, Planck's constant\n",
    "speedc = 2.99792458e+08  # m/s, speed of light\n",
    "kB = 1.3806488e-23  # J/K, Boltzmann's constant\n",
    "lam1 = 300e-9  # m\n",
    "lam2 = 750e-9  # m\n",
    "# Conversion factors need for the efficiency.\n",
    "x1T = Planckh * speedc / (lam1 * kB)  # x1*T, in K\n",
    "x2T = Planckh * speedc / (lam2 * kB)  # x2*T, in K\n",
    "\n",
    "def Intensity(x):\n",
    "    \"\"\"Blackbody intensity in dimensionless form.\"\"\"\n",
    "    return x**3 / (np.exp(x) - 1)\n",
    "\n",
    "def efficiency(T):\n",
    "    \"\"\"Efficiency of a blackbody.\n",
    "    This is defined as the intensity emitted in visible wavelengths normalized\n",
    "    by the total intensity of a blackbody with temperature, T, specified in Kelvin.\n",
    "    \"\"\"\n",
    "    return 15 / np.pi**4 * integ.quad(Intensity, x2T / T, x1T / T)[0]\n",
    "\n",
    "TKelvin = np.linspace(300, 10000, 5000)  # Kelvin\n",
    "eta = np.zeros_like(TKelvin)\n",
    "for j in range(len(TKelvin)):\n",
    "    eta[j] = efficiency(TKelvin[j])\n",
    "\n",
    "# A more pythonic way of doing this is to NOT preallocate and instead use list comprehension.\n",
    "# List comprehension is \"optimized\" for creating arrays so is not such a bad way to do SIMPLE manipulations.\n",
    "# If we were doing more work inside the loop then list comprehension is not a good approach.\n",
    "# It is not something I am going to say much about as we are going to do our best to avoid using loops.\n",
    "# However, you will see many, many examples of it when you search online.\n",
    "# eta = [efficiency(T) for T in TKelvin]\n",
    "# Note that this create a python list, not a numpy array!\n",
    "# Most numpy and scipy functions will convert a list to an array for you, but we can run into problems when\n",
    "# we are not careful.\n",
    "# Thus, maybe we would want to do the conversion ourselves, either by wrapping the above list or as follows\n",
    "# eta = np.array(eta)\n",
    "\n",
    "# A quick plot to see what it looks like\n",
    "plt.plot(TKelvin, eta, 'k-')\n",
    "plt.xlabel('Temperature (Kelvin)')\n",
    "plt.ylabel('Efficiency');"
   ]
  },
  {
   "cell_type": "markdown",
   "metadata": {},
   "source": [
    "We can now start to analyze this efficiency. Before doing that, let us consider using `quad_vec` for this problem.\n",
    "\n",
    "### `quad_vec`\n",
    "\n",
    "As shown in the documentation, this works on a vectorized function, though it requires the same limits of integration for all integrals we evaluate. Unfortunately, we want to evaluate the integral at multiple temperatures and our simplification above moved the temperature into the limits of integration. To fix this let us go back to the original integral. We had defined the efficiency as the ratio of intensities,\n",
    "$$ \\eta \\equiv \\frac{\\int_{\\lambda_1}^{\\lambda_2} I(\\lambda) \\mathrm{d}\\lambda}{\\int_0^\\infty I(\\lambda) \\mathrm{d}\\lambda}, $$\n",
    "where the intensity was given by\n",
    "$$ I(\\lambda) = \\frac{2\\pi A h c^2}{\\lambda^5 (\\mathrm{e}^{h c/\\lambda k_B T} - 1)}.$$\n",
    "\n",
    "To simplify this in a similar way as above, let\n",
    "$$ y \\equiv \\frac{h c}{\\lambda k_B}. $$\n",
    "With this we can show that\n",
    "$$ \\eta(T) = \\frac{15}{\\pi^4 T^4} \\int_{y_2}^{y_1} \\frac{y^3}{\\mathrm{e}^{y/T} - 1} \\mathrm{d}y. $$\n",
    "Notice that $y_1$ is what we called `x1T` and $y_2$ is what we called `x2T` in the code above."
   ]
  },
  {
   "cell_type": "code",
   "execution_count": 13,
   "metadata": {},
   "outputs": [
    {
     "data": {
      "image/png": "[encoded data removed]",
      "text/plain": [
       "<Figure size 640x480 with 1 Axes>"
      ]
     },
     "metadata": {},
     "output_type": "display_data"
    }
   ],
   "source": [
    "def Intensity_vec(y, T):\n",
    "    \"\"\"Blackbody intensity in dimensionless form.\n",
    "    T is an array of temperatures in Kelvin.\n",
    "    \"\"\"\n",
    "    return y**3 / (np.exp(y / T) - 1)\n",
    "\n",
    "def efficiency_vec(T):\n",
    "    \"\"\"Efficiency of a blackbody.\n",
    "    This is defined as the intensity emitted in visible wavelengths normalized\n",
    "    by the total intensity of a blackbody with temperature, T, specified in Kelvin.\n",
    "    Here T is an array of temperatures.\n",
    "    workers is an optional argument passed to quad_vec. It determines the number of processes\n",
    "    to run in parallel for the computation.\n",
    "    \"\"\"\n",
    "    return 15 / (np.pi * T)**4 * integ.quad_vec(Intensity_vec, x2T, x1T, args=(T,))[0]\n",
    "\n",
    "eta_vec = efficiency_vec(TKelvin)\n",
    "\n",
    "# A quick plot to see what it looks like\n",
    "plt.plot(TKelvin, eta_vec, 'k-')\n",
    "plt.xlabel('Temperature (Kelvin)')\n",
    "plt.ylabel('Efficiency');"
   ]
  },
  {
   "cell_type": "markdown",
   "metadata": {},
   "source": [
    "The plots look very similar, lets compare the values. Since we do not know which one is the correct value we will calculate the error as the absolute value of the difference divided by the average\n",
    "$$ \\epsilon \\equiv 2 \\left| \\frac{\\eta_1 - \\eta_2}{\\eta_1 + \\eta_2} \\right| . $$"
   ]
  },
  {
   "cell_type": "code",
   "execution_count": 14,
   "metadata": {},
   "outputs": [
    {
     "data": {
      "image/png": "[encoded data removed]",
      "text/plain": [
       "<Figure size 640x480 with 1 Axes>"
      ]
     },
     "metadata": {},
     "output_type": "display_data"
    }
   ],
   "source": [
    "epsilon = 2 * np.abs((eta - eta_vec) / (eta + eta_vec))\n",
    "plt.semilogy(TKelvin, epsilon, 'k-')\n",
    "plt.xlabel('Temperature (Kelvin)')\n",
    "plt.ylabel('Relative Difference in Methods')\n",
    "plt.title('Comparison of quad and quad_vec Accuracy');"
   ]
  },
  {
   "cell_type": "markdown",
   "metadata": {},
   "source": [
    "We can also compare how long it takes to perform each computation. We will use the cell magic `%%timeit` for this purpose.\n",
    "(We have seen this cell magic again in the past and will encounter it again in the future.)\n",
    "\n",
    "Here is the loop."
   ]
  },
  {
   "cell_type": "code",
   "execution_count": 15,
   "metadata": {},
   "outputs": [
    {
     "name": "stdout",
     "output_type": "stream",
     "text": [
      "78.9 ms ± 341 μs per loop (mean ± std. dev. of 7 runs, 10 loops each)\n"
     ]
    }
   ],
   "source": [
    "%%timeit\n",
    "eta = np.zeros_like(TKelvin)\n",
    "for j in range(len(TKelvin)):\n",
    "    eta[j] = efficiency(TKelvin[j])"
   ]
  },
  {
   "cell_type": "markdown",
   "metadata": {},
   "source": [
    "Here is the pythonic \"list comprehension\" approach."
   ]
  },
  {
   "cell_type": "code",
   "execution_count": 16,
   "metadata": {},
   "outputs": [
    {
     "name": "stdout",
     "output_type": "stream",
     "text": [
      "78.9 ms ± 731 μs per loop (mean ± std. dev. of 7 runs, 10 loops each)\n"
     ]
    }
   ],
   "source": [
    "%%timeit\n",
    "eta = np.array([efficiency(T) for T in TKelvin])"
   ]
  },
  {
   "cell_type": "markdown",
   "metadata": {},
   "source": [
    "Here is the vectorized version."
   ]
  },
  {
   "cell_type": "code",
   "execution_count": 17,
   "metadata": {},
   "outputs": [
    {
     "name": "stdout",
     "output_type": "stream",
     "text": [
      "2.4 ms ± 14.6 μs per loop (mean ± std. dev. of 7 runs, 100 loops each)\n"
     ]
    }
   ],
   "source": [
    "%%timeit\n",
    "eta_vec = efficiency_vec(TKelvin)"
   ]
  },
  {
   "cell_type": "markdown",
   "metadata": {},
   "source": [
    "We see that `quad_vec` is noticeably more efficient!"
   ]
  },
  {
   "cell_type": "markdown",
   "metadata": {},
   "source": [
    "### Back to Optimal Temperature\n",
    "\n",
    "From the quick plots of the efficiency we see it always remains below 60 percent and is a maximum at a rather high temperature. We can find this maximum in a number of ways. One approach is to find where the derivative is zero. We can do this using a spline and a root finder.\n",
    "\n",
    "(As we saw above, it does not matter whether we use the result from `quad` or `quad_vec` for this analysis.)"
   ]
  },
  {
   "cell_type": "code",
   "execution_count": 19,
   "metadata": {},
   "outputs": [
    {
     "data": {
      "image/png": "[encoded data removed]",
      "text/plain": [
       "<Figure size 640x480 with 1 Axes>"
      ]
     },
     "metadata": {},
     "output_type": "display_data"
    }
   ],
   "source": [
    "eta_spline = interp.make_interp_spline(TKelvin, eta)\n",
    "# Calculate its derivative as a function\n",
    "eta_spline_deriv = eta_spline.derivative()\n",
    "Toptimal = opt.brentq(eta_spline_deriv, 4000, 9000)\n",
    "etamax = efficiency(Toptimal)\n",
    "# Make a nice plot of the results\n",
    "fig = plt.figure()\n",
    "ax = fig.add_subplot(111)\n",
    "ax.plot(TKelvin, eta, 'k-')\n",
    "ax.axvline(Toptimal, color='C0', ls='--',\n",
    "            label=f'Optimal Temperature: {Toptimal:.0f} K')\n",
    "ax.axhline(etamax, color='C1', ls='-.',\n",
    "            label=f'Maximum efficiency: {100*etamax:.1f}%')\n",
    "ax.legend(loc='best')\n",
    "ax.set_xlabel('Temperature (Kelvin)')\n",
    "ax.set_ylabel('Efficiency')\n",
    "ax.set_title('(In)efficiency of an Incandescent Bulb')\n",
    "ax.set_xlim(left=0)\n",
    "ax.set_ylim(0, 0.65);"
   ]
  },
  {
   "cell_type": "markdown",
   "metadata": {},
   "source": [
    "The optimal temperature is quite high and the value is not too surprising. The Sun is the dominant source of light on the Earth and it can also be approximated as a black body. The surface temperature of the Sun is approximately 5800 K, close to the optimal temperature we find. The exact connection between the two and the role evolution plays in this is more subtle and must be addressed with some care. Further, we could easily include a \"response function\" for how the eye responds as a function of wavelength in our analysis. See <a href=\"http://www.phys.ufl.edu/~hagen/phz4710/readings/AJPSofferLynch.pdf\">Soffer and Lynch (1999)</a> for more details on these and related issues. This would be a more accurate assessment. Even without that we get the main point: the optimal temperature for operating an incandescent bulb is quite high and the peak efficiency is not all that high.\n",
    "\n",
    "Overall we see that an incandescent bulb is incredibly inefficient, do we really want to run such a bulb at approximately 8000 K! Even if we did we would only be running at about 60 percent efficiency. Of course this analysis should not be taken too literally. Many things can be/were done to improve the efficiency, an incandescent bulb is not a perfect blackbody, *etc*. Even so, it shows how big a problem must be overcome to make them even marginally efficient. Alternate technologies have thus supplanted the venerable incandescent bulb."
   ]
  }
 ],
 "metadata": {
  "anaconda-cloud": {},
  "kernelspec": {
   "display_name": "Python 3 (ipykernel)",
   "language": "python",
   "name": "python3"
  },
  "language_info": {
   "codemirror_mode": {
    "name": "ipython",
    "version": 3
   },
   "file_extension": ".py",
   "mimetype": "text/x-python",
   "name": "python",
   "nbconvert_exporter": "python",
   "pygments_lexer": "ipython3",
   "version": "3.11.5"
  }
 },
 "nbformat": 4,
 "nbformat_minor": 4
}
