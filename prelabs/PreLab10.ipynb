{
 "cells": [
  {
   "attachments": {},
   "cell_type": "markdown",
   "metadata": {
    "assignment": {
     "type": "objectives"
    }
   },
   "source": [
    "# Pre Lab 10: FFT\n",
    "\n",
    "## Objectives\n",
    "\n",
    "In this prelab we will learn how to calculate the FFT and extract information from it using functions from `numpy.fft`. We will work with noise from a seismometer, calculate a power spectral density, and apply a low pass filter.\n",
    "\n",
    "**Warning:** This is a somewhat long prelab. The FFT is very important and there is a lot we want to understand."
   ]
  },
  {
   "cell_type": "markdown",
   "metadata": {
    "assignment": {
     "type": "question"
    }
   },
   "source": [
    "## Initialization\n",
    "\n",
    "As always you should add initialization to the top of your notebook."
   ]
  },
  {
   "cell_type": "code",
   "execution_count": null,
   "metadata": {
    "assignment": {
     "type": "solution"
    },
    "deletable": false,
    "jupyter": {
     "outputs_hidden": false
    },
    "nbgrader": {
     "cell_type": "code",
     "checksum": "cffe332c15bf2c0ff123a63bfd5c2be8",
     "grade": true,
     "grade_id": "cell-33c65289f88c3ca5",
     "locked": false,
     "points": 0,
     "schema_version": 3,
     "solution": true,
     "task": false
    }
   },
   "outputs": [],
   "source": [
    "# YOUR CODE HERE\n",
    "raise NotImplementedError()"
   ]
  },
  {
   "attachments": {},
   "cell_type": "markdown",
   "metadata": {
    "assignment": {
     "type": "question"
    }
   },
   "source": [
    "## Exploring the FFT\n",
    "\n",
    "To begin our exploration of the FFT consider a simple signal containing two frequencies written as\n",
    "$$ h(t) = a_1 \\sin(2\\pi f_1 t) + a_2 \\sin(2\\pi f_2 t). $$\n",
    "Let $a_1 = 1$, $a_2 = 1.5$, $f_1=10\\,\\mathrm{Hz}$, and $f_2=15\\,\\mathrm{Hz}$. Here we will sample the signal over a time period of $1\\,\\mathrm{s}$ at different sample rates.\n",
    "\n",
    "Sample the signal over a total time interval of 1 second using 41 time steps. Calculate the FFT of this sampled signal and save the result: I will call the Fourier transform of our signal `H`. Next calculate the inverse FFT of `H`. This should reproduce the original signal. Produce a quick plot of the true signal and the one calculated by applying the FFT and then an inverse FFT. [*Note:* We use an odd number of steps because it makes some of the calculations below easier.]"
   ]
  },
  {
   "cell_type": "code",
   "execution_count": null,
   "metadata": {
    "assignment": {
     "type": "solution"
    },
    "deletable": false,
    "jupyter": {
     "outputs_hidden": false
    },
    "nbgrader": {
     "cell_type": "code",
     "checksum": "91b2b8fa7393a83c65e1c6e9338b0b31",
     "grade": true,
     "grade_id": "cell-5827d526f7f19ff9",
     "locked": false,
     "points": 0.5,
     "schema_version": 3,
     "solution": true,
     "task": false
    }
   },
   "outputs": [],
   "source": [
    "# YOUR CODE HERE\n",
    "raise NotImplementedError()"
   ]
  },
  {
   "cell_type": "markdown",
   "metadata": {
    "assignment": {
     "type": "example"
    }
   },
   "source": [
    "### Important Note:\n",
    "\n",
    "You should find the signal from the inverse FFT reproduces the original signal. This is not always the case with FFT implementations! Different implementations of the FFT normalize things in different ways and may require you to renormalize the results. By default the implementation in NumPy does this for you, but others may not. You should always check how the normalization is handled in the library you are using."
   ]
  },
  {
   "attachments": {},
   "cell_type": "markdown",
   "metadata": {
    "assignment": {
     "type": "question"
    }
   },
   "source": [
    "### Amplitude\n",
    "\n",
    "The FFT of our signal should extract the dominant frequencies and their amplitudes. We know what frequencies and amplitudes should appear in our signal. To calculate the frequencies we can use `np.fft.fftfreq`. Note that if you pass the sampling rate to this function it will return the frequencies in the correct units.\n",
    "\n",
    "Produce a quick plot of the *magnitude of the amplitude* versus the frequency as a line. Do this in the \"naive\" way using the frequencies directly from `fftfreq`. You should find the plot has some strange looking features in it."
   ]
  },
  {
   "cell_type": "code",
   "execution_count": null,
   "metadata": {
    "assignment": {
     "type": "solution"
    },
    "deletable": false,
    "jupyter": {
     "outputs_hidden": false
    },
    "nbgrader": {
     "cell_type": "code",
     "checksum": "94dbe304bf00410284af0fc1a2014858",
     "grade": true,
     "grade_id": "cell-41b63bf113aa2434",
     "locked": false,
     "points": 0.2,
     "schema_version": 3,
     "solution": true,
     "task": false
    }
   },
   "outputs": [],
   "source": [
    "# YOUR CODE HERE\n",
    "raise NotImplementedError()"
   ]
  },
  {
   "attachments": {},
   "cell_type": "markdown",
   "metadata": {
    "assignment": {
     "type": "question"
    }
   },
   "source": [
    "#### Reorganizing the FFT\n",
    "\n",
    "There are a number of details to understand when calculating the FFT. First notice that the amplitude in `H` is complex. This is due to the fact that we have used complex exponentials (i.e., complex functions) to represent the sinusoids. Since our signal is real we should really plot the absolute value of the amplitude instead of just the amplitude itself (which is why we plotted the magnitude above). Further, the amplitudes correspond to frequencies in a particular order. As seen in the example for this week the information can be reordered using `np.fft.fftshift`.\n",
    "\n",
    "Produce a quick plot of the appropriately shifted absolute value of the amplitude versus the also properly shifted frequencies. You should find there are peaks at the frequencies used to construct the signal."
   ]
  },
  {
   "cell_type": "code",
   "execution_count": null,
   "metadata": {
    "assignment": {
     "type": "solution"
    },
    "deletable": false,
    "jupyter": {
     "outputs_hidden": false
    },
    "nbgrader": {
     "cell_type": "code",
     "checksum": "12dade8cff5757dc42c45a8123e0b1c0",
     "grade": true,
     "grade_id": "cell-78216c46ccf3eec0",
     "locked": false,
     "points": 0.2,
     "schema_version": 3,
     "solution": true,
     "task": false
    }
   },
   "outputs": [],
   "source": [
    "# YOUR CODE HERE\n",
    "raise NotImplementedError()"
   ]
  },
  {
   "cell_type": "markdown",
   "metadata": {
    "assignment": {
     "type": "question"
    }
   },
   "source": [
    "As noted above, your plot should only have non-zero amplitudes at the expected frequencies. However, it has non-zero amplitudes at both positive and negative frequencies! These amplitudes are really for the same frequency mode and thus should be combined. Add the absolute values of the positive and negative frequencies. Produce a quick plot of this new amplitude versus the positive frequencies. You can exclude the zero frequency in this calculation and plot."
   ]
  },
  {
   "cell_type": "code",
   "execution_count": null,
   "metadata": {
    "assignment": {
     "type": "solution"
    },
    "deletable": false,
    "jupyter": {
     "outputs_hidden": false
    },
    "nbgrader": {
     "cell_type": "code",
     "checksum": "b4de35945308f49c59310eff70108d2b",
     "grade": true,
     "grade_id": "cell-657e229bf13ef92c",
     "locked": false,
     "points": 0.1,
     "schema_version": 3,
     "solution": true,
     "task": false
    }
   },
   "outputs": [],
   "source": [
    "# YOUR CODE HERE\n",
    "raise NotImplementedError()"
   ]
  },
  {
   "attachments": {},
   "cell_type": "markdown",
   "metadata": {
    "assignment": {
     "type": "question"
    }
   },
   "source": [
    "#### Renormalizing the FFT\n",
    "\n",
    "We should now have found that we only have contributions at the two positive frequencies used to create the signal. The amplitudes we calculated should also equal the amplitudes used to create the signal, but they do not! Why not? Even though calculating the FFT then the inverse FFT does return the normalized result, **the intermediate result is not properly normalized**. \n",
    "\n",
    "This was discussed in the example. See the discussion there for details.\n",
    "\n",
    "Renormalize the amplitude calculated in the previous part. Print the amplitudes at the two frequencies used to calculate the original signal. These should agree with the values used in constructing the signal. Also produce a quick plot of the normalized amplitude versus frequency as in the previous question."
   ]
  },
  {
   "cell_type": "code",
   "execution_count": null,
   "metadata": {
    "assignment": {
     "type": "solution"
    },
    "deletable": false,
    "jupyter": {
     "outputs_hidden": false
    },
    "nbgrader": {
     "cell_type": "code",
     "checksum": "9edf65723d08dde8c39caf2a6c2da442",
     "grade": true,
     "grade_id": "cell-6499890642f0bd5f",
     "locked": false,
     "points": 0.4,
     "schema_version": 3,
     "solution": true,
     "task": false
    }
   },
   "outputs": [],
   "source": [
    "# YOUR CODE HERE\n",
    "raise NotImplementedError()"
   ]
  },
  {
   "cell_type": "markdown",
   "metadata": {},
   "source": [
    "## Seismic Data\n",
    "\n",
    "Data in the time domain shows up in many, many places. One example we will explore in more detail in the lab comes from monitoring the seismic activity of the Earth. We will begin by looking at the acceleration measured by a seismometer during \"normal\" activity, i.e., when nothing interesting is going on, thus, we will be looking at noise.\n",
    "\n",
    "As with every field there are particular formats used for storing data. Here I have done a bit of preprocessing and stored the data in `TSPAIR` format. This means the first line of the file is a header containing what would be useful information (if we were going to use it) and the rest of the file contains two columns.\n",
    "* Column 1: Date-Time stamp of when the measurement was made.\n",
    "* Column 2: Measured acceleration in $\\mathrm{m/s^2}$.\n",
    "\n",
    "If we were professionally working with seismic data we would use tools specific to the field. In this case, [ObsPy](https://docs.obspy.org/) would be a good choice. We will not do so here! (I did use it to put the data in a simpler form for us to process.)\n",
    "\n",
    "Working with dates and times is more challenging that you might expect. One approach for dealing with data is to use [Pandas](https://pandas.pydata.org/docs/). This works for many, many types of data in many, many formats. It can also deal with dates and times for us. However, it is also a large module with a steep learning curve. So we do not need to do this either.\n",
    "\n",
    "Next, there is a `datetime` module in the standard python library for this and `matplotlib` can handle plotting `datetime` objects. However, this is a lot of work and is not required. See the end of the prelab for a bit more of a discussion.\n",
    "\n",
    "For our purposes we can skip all of this and just read in the data file using our standard approaches and ignore the information that causes problems! From the first line of the file all we need to know is that the measurements are collected with a sampling rate of $100\\,\\mathrm{Hz}$. We can thus just skip the first line of the file when reading it in. Next, we only need the acceleration measurements so we only need to read in the second column from the file.\n",
    "\n",
    "Read in the acceleration from the url provided below using a `with` statement, similar to the procedure followed last week. We can again use `np.loadtxt`. Remind yourself from the documentation how to\n",
    "1. Skip the first line of the file\n",
    "2. Only read in the second column of data (again, you can try to deal with the date time information, but we will be using similar data in the lab and you really do not want to deal with it there).\n",
    "\n",
    "Read in the data from\n",
    "`https://raw.githubusercontent.com/cwru-phys-250/resources/main/data/seismic_noise.dat`\n",
    "and produce a quick plot of the signal. (Plotting versus index number is sufficient, we just want to see what it looks like.)"
   ]
  },
  {
   "cell_type": "code",
   "execution_count": null,
   "metadata": {
    "deletable": false,
    "nbgrader": {
     "cell_type": "code",
     "checksum": "4f1f5307fabb6fbe238757cd044c8b69",
     "grade": true,
     "grade_id": "cell-da876f6a709a44e3",
     "locked": false,
     "points": 0.3,
     "schema_version": 3,
     "solution": true,
     "task": false
    }
   },
   "outputs": [],
   "source": [
    "# YOUR CODE HERE\n",
    "raise NotImplementedError()"
   ]
  },
  {
   "cell_type": "markdown",
   "metadata": {},
   "source": [
    "### Power Spectral Density\n",
    "\n",
    "As noted in the lecture, the power spectral density (PSD) and related terms are used to mean similar things in different contexts. The precise definition must be checked with care. Let $n(t)$ represent our noise signal sampled at the rate $f_s$. Here we will define the one-sided PSD for $0 < f < f_s/2$. (Notice that this *does not include* $f=0$ nor the Nyquist frequency. Typically we *will actually include* the Nyquist frequency since we also typically filter it out, as we will do below. Thus, you do not need to remove the Nyquist frequency.) One definition that will be useful to us when we want to normalize a signal based on its noise properties is\n",
    "$$ \\mathrm{PSD} \\equiv \\frac{|\\tilde{n}(f)|^2 + |\\tilde{n}(-f)|^2}{N f_s}, $$\n",
    "where $\\tilde{n}(f)$ is the Fourier transform of $n(t)$ and $N$ is the total number of samples of the signal. Since our signal $n(t)$ is real the negative frequency amplitudes are related to the positive frequency amplitudes as $\\tilde{n}(-f) = [\\tilde{n}(f)]^*$, thus you will typically see this version of the PSD written as\n",
    "$$ \\mathrm{PSD} \\equiv \\frac{2|\\tilde{n}(f)|^2}{N f_s}, $$\n",
    "where only the positive frequency amplitudes are used. (Technically this definition is assuming no window function. We could include a window function which would change the $N$ in the denominator. That is more than we need, see more advanced signal processing for further discussions.)\n",
    "\n",
    "Write a function to calculate a PSD given the signal and its sampling rate. Since our signal is real this can be done either using the FFT functions, `np.fft.fft`, *etc*., or their real equivalents, `np.fft.rfft`, *etc*. We will be doing more processing of real signals in the lab and it usually simpler to use a real FFT, so **I encourage you to use `np.fft.rfft`**. We will be handling similar signals in the lab and I find it easier to work with a real FFT in such cases. However, either the full or real FFT functions can be made to work so you are free to choose."
   ]
  },
  {
   "cell_type": "code",
   "execution_count": null,
   "metadata": {
    "deletable": false,
    "nbgrader": {
     "cell_type": "code",
     "checksum": "617a1c462eadbc1a6ba2c3b11721f11c",
     "grade": true,
     "grade_id": "cell-fc5843649807a3a2",
     "locked": false,
     "points": 0.5,
     "schema_version": 3,
     "solution": true,
     "task": false
    }
   },
   "outputs": [],
   "source": [
    "def calculate_psd(signal, sampling_rate):\n",
    "# YOUR CODE HERE\n",
    "raise NotImplementedError()"
   ]
  },
  {
   "cell_type": "markdown",
   "metadata": {},
   "source": [
    "This definition of the PSD is normalized such that the area under the PSD is equal to the variance in the signal. This means that\n",
    "$$ \\int_{0}^{f_s/2} \\mathrm{PSD}(f) \\, \\mathrm{d}f \\approx \\sum_f \\mathrm{PSD}(f) \\Delta f = \\mathrm{var}(n(t)). $$\n",
    "Calculate (and store) the PSD and the frequencies at which it is evaluated. Calculate the integral of the PSD and the variance of the noise signal (of course there is a NumPy function that calculates the variance) and show that they are the same.\n",
    "\n",
    "(Notice that we have approximated the area under the PSD curve using the Riemann sum. We are doing this despite knowing much more sophisticated algorithms for numerically evaluating integrals. Using the Riemann sum is a perfectly good algorithm in this case. In fact, you could argue that it is *the correct algorithm to use*. You should think about why.)"
   ]
  },
  {
   "cell_type": "code",
   "execution_count": null,
   "metadata": {
    "deletable": false,
    "nbgrader": {
     "cell_type": "code",
     "checksum": "80c5c4fbe1f6b8bbf2955d11f74f5c81",
     "grade": true,
     "grade_id": "cell-f51d907b4778d94b",
     "locked": false,
     "points": 0.5,
     "schema_version": 3,
     "solution": true,
     "task": false
    }
   },
   "outputs": [],
   "source": [
    "# YOUR CODE HERE\n",
    "raise NotImplementedError()"
   ]
  },
  {
   "cell_type": "markdown",
   "metadata": {},
   "source": [
    "The units of the PSD we have defined are the square of the units of the signal divided by the units of the sampling rate. In our case this means acceleration squared per Hertz. Produce a nice plot of the PSD."
   ]
  },
  {
   "cell_type": "code",
   "execution_count": null,
   "metadata": {
    "deletable": false,
    "nbgrader": {
     "cell_type": "code",
     "checksum": "0217538236f84e92f13fbc5b89af7462",
     "grade": true,
     "grade_id": "cell-719d39d409934ffb",
     "locked": false,
     "points": 0.3,
     "schema_version": 3,
     "solution": true,
     "task": false
    }
   },
   "outputs": [],
   "source": [
    "# YOUR CODE HERE\n",
    "raise NotImplementedError()"
   ]
  },
  {
   "cell_type": "markdown",
   "metadata": {},
   "source": [
    "### Low Pass Filter\n",
    "\n",
    "You should see that there is a peak at high frequency, right up to the Nyquist frequency. This is clearly noise of a different nature from the lower frequency noise and is injecting a fair bit of power into the signal. Suppose we want to remove this. To do so we can use a low pass filter, i.e., a filter that only lets the low frequencies through. This is simple to do in the frequency domain: just set the amplitude of the high frequency modes to zero. In other words, let $f_{\\mathrm{cut}}$ be some frequency cutoff. Set all values of $\\tilde{n}(f)$ to zero for $f > f_{\\mathrm{cut}}$. If we now calculate the inverse Fourier transform of this modified $\\tilde{n}(f)$ we will have a new signal $n'(t)$ that does not contain the high frequency contributions.\n",
    "\n",
    "Choose some value for $f_{\\mathrm{cut}}$ and filter the noise. Produce a nice plot of the original and filtered signals. Plot the time on the $x$-axis in seconds.\n",
    "\n",
    "Choose a value for $f_{\\mathrm{cut}}$ near where the amplitude of the high frequency noise becomes small. We are going to apply a similar filter in the lab and do not want to cut out any real signals."
   ]
  },
  {
   "cell_type": "code",
   "execution_count": null,
   "metadata": {
    "deletable": false,
    "nbgrader": {
     "cell_type": "code",
     "checksum": "611e73d4ccfa7b043a234d49219895ba",
     "grade": true,
     "grade_id": "cell-9d4d9a1f6f2159a4",
     "locked": false,
     "points": 1,
     "schema_version": 3,
     "solution": true,
     "task": false
    }
   },
   "outputs": [],
   "source": [
    "# YOUR CODE HERE\n",
    "raise NotImplementedError()"
   ]
  },
  {
   "cell_type": "markdown",
   "metadata": {},
   "source": [
    "## Dates and Times\n",
    "\n",
    "The prelab is completed, however, if you would like to know about dealing with dates and times read on.\n",
    "\n",
    "As noted above, dates and times are challenging to deal with computationally. There are so many different ways in which they are written and stored. For example, what date is 02/05/20? Is this mm/dd/yy or dd/mm/yy and is the year 1920, 2020, ....? In addition to this, if I tell you the prelab is due at 8:00 AM, in what timezone am I setting the time? (Yes, Canvas handles timezones correctly, so, yes, this means in the local timezone, and, no, this is not a loop hole you can exploit!) When specifying times and dates a consistent and coherent convention must be used. Fortunately there are standards. Unfortunately there are standards, plural.\n",
    "\n",
    "Timezones make things even more complicated. Daylight savings time (or really daylight ruining time) makes things worse as it ties the time and timezone to the date. Thus, if you want to know how much time it is until some event on some date in some location you need to know the time it is now in your location in your local timezone and compare it to the time at the location of the event which may be in a different timezone and may or may not be corrected for a daylight savings shift. To deal with this the correct thing to do is convert everything to Coordinated Universal Time (abbreviated UTC). This is a consistent date-time that does not have shifts due to daylight savings. (I will not go into leap seconds, that is a whole different issue.) Intelligent systems store times in UTC and then shift to any other timezone, as needed. (At least one very poorly designed operating system stores the time in your local timezone instead of UTC. I cannot even begin to imagine how anyone thought that was an idea, let alone a good idea.)\n",
    "\n",
    "The seismic data we are using stores times in UTC, as it should. Further, the first column of the data file is in a standard format, so can easily be parsed (by both humans and the computer). The `datetime` module in Python can convert it to a `datetime` object which can then be manipulated. NumPy also has the `np.datetime64` type which is understood by `matplotlib` and can be used for plotting. Unfortunately, `np.datetime64` does not handle timezones. Thus, if we really want to do things ourselves, we should read in the date-times into Python, do whatever manipulations we want, then convert them to `np.datetime64` for further processing. Alternatively, just use Pandas and let it deal these issues!\n",
    "\n",
    "The solutions will contain an example of how this could be done. It is not quite as bad as it may sound since the date-time format used in the data file is in the ISO 8061 standard, which `datetime` already knows how to parse."
   ]
  },
  {
   "cell_type": "code",
   "execution_count": null,
   "metadata": {
    "deletable": false,
    "editable": false,
    "nbgrader": {
     "cell_type": "code",
     "checksum": "1d5dfff0592c773a94dba8e86e2a9e71",
     "grade": true,
     "grade_id": "cell-037583bb49edd0a5",
     "locked": true,
     "points": 0,
     "schema_version": 3,
     "solution": false,
     "task": false
    }
   },
   "outputs": [],
   "source": [
    "# The solutions will contain the time stamp handling code here."
   ]
  },
  {
   "cell_type": "code",
   "execution_count": null,
   "metadata": {},
   "outputs": [],
   "source": []
  }
 ],
 "metadata": {
  "anaconda-cloud": {},
  "authors": [
   {
    "name": "Craig J Copi",
    "semester": "Spring 2025"
   }
  ],
  "kernelspec": {
   "display_name": "Python 3 (ipykernel)",
   "language": "python",
   "name": "python3"
  },
  "language_info": {
   "codemirror_mode": {
    "name": "ipython",
    "version": 3
   },
   "file_extension": ".py",
   "mimetype": "text/x-python",
   "name": "python",
   "nbconvert_exporter": "python",
   "pygments_lexer": "ipython3",
   "version": "3.12.8"
  }
 },
 "nbformat": 4,
 "nbformat_minor": 4
}
